{
 "cells": [
  {
   "cell_type": "markdown",
   "id": "ddafa279",
   "metadata": {},
   "source": [
    "# Week07: Deep Image Registration\n",
    "#### Besed on lecture given by: Axel Schaffland\n",
    "\n",
    "## Content\n"
   ]
  },
  {
   "cell_type": "markdown",
   "id": "6df4e261",
   "metadata": {},
   "source": [
    "## 1. Regression"
   ]
  },
  {
   "cell_type": "markdown",
   "id": "4893c10c",
   "metadata": {},
   "source": [
    "## 2. Iterative - Q Learning"
   ]
  },
  {
   "cell_type": "markdown",
   "id": "d7fc90ba",
   "metadata": {},
   "source": [
    "## 3. Deep features - detect and describe\n",
    "\n",
    "Neural Networks are used to obtain deep features (instead of classical features). Then traditional methods are used to match features on paired images.\n",
    "\n",
    "### 3.1 Hard Feature Detection\n",
    "\n",
    "### 3.2 Soft Feature Detection\n",
    "\n",
    "\n",
    "### 3.3 Loss used for training\n",
    "\n"
   ]
  },
  {
   "cell_type": "markdown",
   "id": "f1de9e29",
   "metadata": {},
   "source": [
    "### 3.4 Network architecture"
   ]
  },
  {
   "cell_type": "markdown",
   "id": "14b24139",
   "metadata": {},
   "source": [
    "### 3.5 Techniques used:\n",
    "\n",
    "#### 3.5.1 Stride and dilation for testing\n",
    "\n",
    "#### 3.5.2 Scale invariance\n",
    "\n",
    "#### 3.5.3 Subpixel accuracy"
   ]
  }
 ],
 "metadata": {
  "jupytext": {
   "text_representation": {
    "extension": ".Rmd",
    "format_name": "rmarkdown",
    "format_version": "1.2",
    "jupytext_version": "1.11.2"
   }
  },
  "kernelspec": {
   "display_name": "Python 3",
   "language": "python",
   "name": "python3"
  },
  "language_info": {
   "codemirror_mode": {
    "name": "ipython",
    "version": 3
   },
   "file_extension": ".py",
   "mimetype": "text/x-python",
   "name": "python",
   "nbconvert_exporter": "python",
   "pygments_lexer": "ipython3",
   "version": "3.8.8"
  }
 },
 "nbformat": 4,
 "nbformat_minor": 5
}
